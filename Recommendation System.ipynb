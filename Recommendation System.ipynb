{
 "cells": [
  {
   "cell_type": "code",
   "execution_count": 5,
   "id": "37f515f9-bac0-4671-9fc3-c534f8d6d37f",
   "metadata": {},
   "outputs": [
    {
     "name": "stdout",
     "output_type": "stream",
     "text": [
      "Requirement already satisfied: pandas in c:\\users\\prann\\appdata\\local\\programs\\python\\python312\\lib\\site-packages (2.2.2)\n",
      "Requirement already satisfied: scikit-learn in c:\\users\\prann\\appdata\\local\\programs\\python\\python312\\lib\\site-packages (1.5.1)\n",
      "Requirement already satisfied: numpy in c:\\users\\prann\\appdata\\local\\programs\\python\\python312\\lib\\site-packages (1.26.4)\n",
      "Requirement already satisfied: python-dateutil>=2.8.2 in c:\\users\\prann\\appdata\\local\\programs\\python\\python312\\lib\\site-packages (from pandas) (2.9.0.post0)\n",
      "Requirement already satisfied: pytz>=2020.1 in c:\\users\\prann\\appdata\\local\\programs\\python\\python312\\lib\\site-packages (from pandas) (2024.1)\n",
      "Requirement already satisfied: tzdata>=2022.7 in c:\\users\\prann\\appdata\\local\\programs\\python\\python312\\lib\\site-packages (from pandas) (2024.1)\n",
      "Requirement already satisfied: scipy>=1.6.0 in c:\\users\\prann\\appdata\\local\\programs\\python\\python312\\lib\\site-packages (from scikit-learn) (1.14.1)\n",
      "Requirement already satisfied: joblib>=1.2.0 in c:\\users\\prann\\appdata\\local\\programs\\python\\python312\\lib\\site-packages (from scikit-learn) (1.4.2)\n",
      "Requirement already satisfied: threadpoolctl>=3.1.0 in c:\\users\\prann\\appdata\\local\\programs\\python\\python312\\lib\\site-packages (from scikit-learn) (3.5.0)\n",
      "Requirement already satisfied: six>=1.5 in c:\\users\\prann\\appdata\\local\\programs\\python\\python312\\lib\\site-packages (from python-dateutil>=2.8.2->pandas) (1.16.0)\n"
     ]
    },
    {
     "name": "stderr",
     "output_type": "stream",
     "text": [
      "\n",
      "[notice] A new release of pip is available: 24.2 -> 24.3.1\n",
      "[notice] To update, run: C:\\Users\\prann\\AppData\\Local\\Programs\\Python\\Python312\\python.exe -m pip install --upgrade pip\n"
     ]
    }
   ],
   "source": [
    "!pip install pandas scikit-learn numpy\n"
   ]
  },
  {
   "cell_type": "code",
   "execution_count": 7,
   "id": "c07b1367-fd57-4187-b6bd-aa61219c9bd9",
   "metadata": {},
   "outputs": [
    {
     "name": "stdout",
     "output_type": "stream",
     "text": [
      "Data loaded successfully.\n"
     ]
    }
   ],
   "source": [
    "################3LOADING JSON DATA############\n",
    "import json\n",
    "\n",
    "file_path = \"C:\\\\Users\\\\prann\\\\OneDrive\\\\Desktop\\\\UPES\\\\Amazon-Product-Recommendation-System-master\\\\sourceFiles\\\\meta_All_Beauty_sample.json\"\n",
    "\n",
    "def load_json(file_path):\n",
    "    \"\"\"Load JSON file into a list of dictionaries.\"\"\"\n",
    "    data = []\n",
    "    with open(file_path, 'r') as file:\n",
    "        for line in file:\n",
    "            data.append(json.loads(line))\n",
    "    return data\n",
    "\n",
    "data = load_json(file_path)\n",
    "print(\"Data loaded successfully.\")\n"
   ]
  },
  {
   "cell_type": "code",
   "execution_count": 8,
   "id": "7fe3bae1-35da-48e1-a4c2-c2e8de573856",
   "metadata": {},
   "outputs": [
    {
     "name": "stdout",
     "output_type": "stream",
     "text": [
      "Data preprocessed and saved as 'processed_data.csv'.\n"
     ]
    }
   ],
   "source": [
    "#################PREPROCESS DATA###########\n",
    "import pandas as pd\n",
    "\n",
    "def preprocess_data(data):\n",
    "    \"\"\"Extract relevant fields, clean the data, and handle missing values.\"\"\"\n",
    "    processed_data = []\n",
    "    for item in data:\n",
    "        try:\n",
    "            processed_data.append({\n",
    "                'asin': item.get('asin', ''),\n",
    "                'title': item.get('title', ''),\n",
    "                'brand': item.get('brand', ''),\n",
    "                'rank': int(item.get('rank', '0').split('in')[0].replace(',', '').strip()) if 'rank' in item else None,\n",
    "                'price': float(item.get('price', '0').replace('$', '').replace(',', '').strip()) if 'price' in item else None,\n",
    "                'description': item.get('description', [''])[0],\n",
    "                'image_url': item.get('image', [None])[0]\n",
    "            })\n",
    "        except ValueError:\n",
    "            continue\n",
    "    \n",
    "    df = pd.DataFrame(processed_data)\n",
    "    df['price'] = df['price'].fillna(df['price'].median())  # Handle missing values\n",
    "    df['rank'] = df['rank'].fillna(df['rank'].median())\n",
    "    return df\n",
    "\n",
    "processed_df = preprocess_data(data)\n",
    "processed_df.to_csv(\"processed_data.csv\", index=False)\n",
    "print(\"Data preprocessed and saved as 'processed_data.csv'.\")\n"
   ]
  },
  {
   "cell_type": "code",
   "execution_count": 12,
   "id": "441e1d10-196c-4314-b8cf-0bf5ec4fdaf1",
   "metadata": {},
   "outputs": [
    {
     "name": "stdout",
     "output_type": "stream",
     "text": [
      "Search Results:\n",
      "          asin                                   title            brand  \\\n",
      "0   0061073717  Workout Headphones by Arena Essentials    HarperCollins   \n",
      "21  0984893229  Workout Headphones by Arena Essentials              NaN   \n",
      "22  0990729702  Workout Headphones by Arena Essentials              NaN   \n",
      "24  0996079203  Workout Headphones by Arena Essentials              NaN   \n",
      "25  0996212205  Workout Headphones by Arena Essentials   College Pencil   \n",
      "70  1933228032  Workout Headphones by Arena Essentials  Trivium Pursuit   \n",
      "\n",
      "       rank   price                                        description  \\\n",
      "0   3235148  13.075                                                NaN   \n",
      "21  1566583  13.075  Part 2 of the comic strip Queen of the Univers...   \n",
      "22  1926486  13.075                                                NaN   \n",
      "24  1352715  13.075  The Ubuntu Activity Guide is the key to enhanc...   \n",
      "25  2229940  13.075  Get an edge in the competitive world of colleg...   \n",
      "70  2483858  13.075  The Latin alphabet is almost the same as the E...   \n",
      "\n",
      "                                            image_url  \n",
      "0   https://images-na.ssl-images-amazon.com/images...  \n",
      "21  https://images-na.ssl-images-amazon.com/images...  \n",
      "22                                                NaN  \n",
      "24  https://images-na.ssl-images-amazon.com/images...  \n",
      "25  https://images-na.ssl-images-amazon.com/images...  \n",
      "70                                                NaN  \n"
     ]
    }
   ],
   "source": [
    "#######################SEARCH FUNCTIONALITY###################\n",
    "def search_products(query, data, key=\"title\"):\n",
    "    \"\"\"Search for products based on a query string.\"\"\"\n",
    "    regex = f\"(?i).*{query}.*\"  # Case-insensitive regex for the query\n",
    "    results = data[data[key].str.contains(regex, na=False)]  # Filter data based on the query\n",
    "    \n",
    "    if results.empty:\n",
    "        # Suggest similar titles if no exact matches are found\n",
    "        suggestions = data[key].dropna().sample(n=min(5, len(data))).tolist()  # Random suggestions\n",
    "        print(\"No products found. Suggestions:\")\n",
    "        for suggestion in suggestions:\n",
    "            print(f\"- {suggestion}\")\n",
    "    return results\n",
    "\n",
    "query = \"Workout Headphones\"  # Example query\n",
    "search_results = search_products(query, processed_df)  # Search for products matching the query\n",
    "if not search_results.empty:\n",
    "    print(\"Search Results:\")\n",
    "    print(search_results)\n"
   ]
  },
  {
   "cell_type": "code",
   "execution_count": 10,
   "id": "dfa08f6c-9b79-4db2-b57c-99337afd2183",
   "metadata": {},
   "outputs": [
    {
     "name": "stdout",
     "output_type": "stream",
     "text": [
      "Recommendations:\n",
      "           asin                                              title  \\\n",
      "50   1467591424                                   Knucklehead Fred   \n",
      "79   3939888141              Buch der Erinnerung. Juden in Dresden   \n",
      "95   7538626107  Unique Custom Cast Iron Liner Shader Tattoo Ma...   \n",
      "8    0967140196  The Change Management Toolkit for Implementati...   \n",
      "101  8985802089  Shiseido Aquair Shampoo/Conditioner/Spray SET ...   \n",
      "\n",
      "               brand     rank   price  \\\n",
      "50                    3218451  13.075   \n",
      "79   Enter The Arena  3213576  13.075   \n",
      "95                    3206658  13.075   \n",
      "8      WinHope Press  3193265  13.075   \n",
      "101                   3187010  13.075   \n",
      "\n",
      "                                           description  \\\n",
      "50   KnuckleHead Fred is a whimsical, rhyming story...   \n",
      "79                                                       \n",
      "95                                                       \n",
      "8    The Change Management Toolkit is designed as a...   \n",
      "101                                                      \n",
      "\n",
      "                                             image_url  \n",
      "50   https://images-na.ssl-images-amazon.com/images...  \n",
      "79                                                None  \n",
      "95                                                None  \n",
      "8    https://images-na.ssl-images-amazon.com/images...  \n",
      "101  https://images-na.ssl-images-amazon.com/images...  \n"
     ]
    }
   ],
   "source": [
    "##################RECOMMENDATION ENGINE##############\n",
    "from sklearn.neighbors import NearestNeighbors\n",
    "\n",
    "def recommend_products(target_asin, data, num_recommendations=5):\n",
    "    \"\"\"Recommend products similar to the target product based on price and rank.\"\"\"\n",
    "    features = data[['price', 'rank']].dropna()\n",
    "    target = data[data['asin'] == target_asin]\n",
    "    if target.empty:\n",
    "        print(f\"ASIN {target_asin} not found.\")\n",
    "        return []\n",
    "\n",
    "    nbrs = NearestNeighbors(n_neighbors=num_recommendations + 1, metric='euclidean').fit(features)\n",
    "    distances, indices = nbrs.kneighbors(target[['price', 'rank']])\n",
    "\n",
    "    recommendations = data.iloc[indices[0][1:]]  # Exclude the target product itself\n",
    "    return recommendations\n",
    "\n",
    "example_asin = \"0061073717\"\n",
    "recommendations = recommend_products(example_asin, processed_df)\n",
    "print(\"Recommendations:\")\n",
    "print(recommendations)\n"
   ]
  },
  {
   "cell_type": "code",
   "execution_count": 13,
   "id": "5fee957d-a367-4fdf-8fc9-327bd15f0236",
   "metadata": {},
   "outputs": [],
   "source": [
    "############GUI##################\n",
    "import tkinter as tk\n",
    "from tkinter import messagebox\n",
    "import pandas as pd\n",
    "\n",
    "# Load Data\n",
    "processed_df = pd.read_csv(\"processed_data.csv\")\n",
    "\n",
    "# Search Function\n",
    "def search(query, data, key=\"title\"):\n",
    "    results = data[data[key].str.contains(query, case=False, na=False)]\n",
    "    return results\n",
    "\n",
    "# Recommendation Function\n",
    "def recommend(target_asin, data, num_recommendations=5):\n",
    "    features = data[['price', 'rank']].dropna()\n",
    "    target = data[data['asin'] == target_asin]\n",
    "    if target.empty:\n",
    "        return []\n",
    "\n",
    "    nbrs = NearestNeighbors(n_neighbors=num_recommendations + 1, metric='euclidean').fit(features)\n",
    "    distances, indices = nbrs.kneighbors(target[['price', 'rank']])\n",
    "    recommendations = data.iloc[indices[0][1:]]  # Exclude the target\n",
    "    return recommendations\n",
    "\n",
    "# GUI Implementation\n",
    "def create_gui():\n",
    "    def perform_search():\n",
    "        query = search_entry.get()\n",
    "        results = search(query, processed_df)\n",
    "        result_list.delete(0, tk.END)\n",
    "        for _, row in results.iterrows():\n",
    "            result_list.insert(tk.END, f\"{row['asin']}: {row['title']}\")\n",
    "\n",
    "    def show_recommendations():\n",
    "        try:\n",
    "            selection = result_list.get(result_list.curselection())\n",
    "            target_asin = selection.split(\":\")[0].strip()\n",
    "            recommendations = recommend(target_asin, processed_df)\n",
    "            if recommendations.empty:\n",
    "                messagebox.showinfo(\"Recommendations\", \"No recommendations found.\")\n",
    "            else:\n",
    "                messagebox.showinfo(\n",
    "                    \"Recommendations\",\n",
    "                    \"\\n\".join(f\"{row['asin']}: {row['title']}\" for _, row in recommendations.iterrows())\n",
    "                )\n",
    "        except tk.TclError:\n",
    "            messagebox.showwarning(\"Warning\", \"Please select a product first.\")\n",
    "    \n",
    "    # Create Main Window\n",
    "    root = tk.Tk()\n",
    "    root.title(\"Product Recommendation System\")\n",
    "    root.geometry(\"600x400\")\n",
    "\n",
    "    # Search Section\n",
    "    tk.Label(root, text=\"Search Products:\").pack(pady=5)\n",
    "    search_entry = tk.Entry(root, width=50)\n",
    "    search_entry.pack(pady=5)\n",
    "    tk.Button(root, text=\"Search\", command=perform_search).pack(pady=5)\n",
    "\n",
    "    # Results Listbox\n",
    "    result_list = tk.Listbox(root, width=80, height=15)\n",
    "    result_list.pack(pady=10)\n",
    "\n",
    "    # Recommendation Button\n",
    "    tk.Button(root, text=\"Get Recommendations\", command=show_recommendations).pack(pady=5)\n",
    "\n",
    "    root.mainloop()\n",
    "\n",
    "# Run the GUI\n",
    "create_gui()\n"
   ]
  },
  {
   "cell_type": "code",
   "execution_count": null,
   "id": "180d9cea-f07d-4040-a65f-558f8bb05662",
   "metadata": {},
   "outputs": [],
   "source": []
  }
 ],
 "metadata": {
  "kernelspec": {
   "display_name": "Python 3 (ipykernel)",
   "language": "python",
   "name": "python3"
  },
  "language_info": {
   "codemirror_mode": {
    "name": "ipython",
    "version": 3
   },
   "file_extension": ".py",
   "mimetype": "text/x-python",
   "name": "python",
   "nbconvert_exporter": "python",
   "pygments_lexer": "ipython3",
   "version": "3.12.2"
  }
 },
 "nbformat": 4,
 "nbformat_minor": 5
}
